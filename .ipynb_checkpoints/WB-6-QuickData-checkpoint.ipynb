{
 "cells": [
  {
   "cell_type": "markdown",
   "metadata": {},
   "source": [
    "Quick Data!\n",
    "---"
   ]
  },
  {
   "cell_type": "code",
   "execution_count": null,
   "metadata": {
    "collapsed": false
   },
   "outputs": [],
   "source": [
    "import pandas as pd\n",
    "import numpy as np\n",
    "import matplotlib.pyplot as plt\n",
    "%matplotlib inline"
   ]
  },
  {
   "cell_type": "code",
   "execution_count": null,
   "metadata": {
    "collapsed": false,
    "scrolled": true
   },
   "outputs": [],
   "source": [
    "# http://catalog.data.gov/dataset/average-monthly-residential-energy-usage-by-zip-code-0487d\n",
    "power_data = pd.read_csv(r'Average_monthly_residential_energy_usage_By_zip_code.csv',header=0)\n",
    "power_data.columns.values"
   ]
  },
  {
   "cell_type": "code",
   "execution_count": null,
   "metadata": {
    "collapsed": false
   },
   "outputs": [],
   "source": [
    "power_data['Location 1'] = power_data['Location 1'].str[:5]"
   ]
  },
  {
   "cell_type": "code",
   "execution_count": null,
   "metadata": {
    "collapsed": false
   },
   "outputs": [],
   "source": [
    "power_data = power_data.set_index('Location 1')"
   ]
  },
  {
   "cell_type": "code",
   "execution_count": null,
   "metadata": {
    "collapsed": false
   },
   "outputs": [],
   "source": [
    "power_data = power_data.sort_index()"
   ]
  },
  {
   "cell_type": "code",
   "execution_count": null,
   "metadata": {
    "collapsed": false
   },
   "outputs": [],
   "source": [
    "power_data.index.name = 'Zip Code'"
   ]
  },
  {
   "cell_type": "code",
   "execution_count": null,
   "metadata": {
    "collapsed": false
   },
   "outputs": [],
   "source": [
    "dateColumnNames = pd.date_range(start='01-01-2005',end='01-01-2012',freq='AS-JAN')"
   ]
  },
  {
   "cell_type": "code",
   "execution_count": null,
   "metadata": {
    "collapsed": false
   },
   "outputs": [],
   "source": [
    "power_data.columns = dateColumnNames.strftime('%Y')"
   ]
  },
  {
   "cell_type": "code",
   "execution_count": null,
   "metadata": {
    "collapsed": false
   },
   "outputs": [],
   "source": [
    "power_data['Average'] = power_data.mean(axis=1)"
   ]
  },
  {
   "cell_type": "code",
   "execution_count": null,
   "metadata": {
    "collapsed": false
   },
   "outputs": [],
   "source": [
    "power_data"
   ]
  },
  {
   "cell_type": "code",
   "execution_count": null,
   "metadata": {
    "collapsed": false
   },
   "outputs": [],
   "source": [
    "power_data.ix[:,7].name"
   ]
  },
  {
   "cell_type": "code",
   "execution_count": null,
   "metadata": {
    "collapsed": false
   },
   "outputs": [],
   "source": [
    "power_data.index[0:10].values"
   ]
  },
  {
   "cell_type": "code",
   "execution_count": null,
   "metadata": {
    "collapsed": false,
    "scrolled": false
   },
   "outputs": [],
   "source": [
    "barWidth = .75\n",
    "plt.figure(figsize=(12,8))\n",
    "plt.barh(np.arange(10),power_data['Average'][0:10],barWidth)\n",
    "\n",
    "plt.title('Power Consumption by Zip Code in Los Angeles')\n",
    "plt.xlabel('Usage in kWh')\n",
    "plt.ylabel('Zip Code')\n",
    "plt.yticks(np.arange(10)+ (barWidth / 2),power_data.index[0:10],rotation=90);"
   ]
  },
  {
   "cell_type": "code",
   "execution_count": null,
   "metadata": {
    "collapsed": false
   },
   "outputs": [],
   "source": [
    "startZip = 0\n",
    "samples = 10\n",
    "endZip = startZip + samples\n",
    "\n",
    "dataYear = '2012'\n",
    "\n",
    "index = np.arange(samples)\n",
    "powerZip = power_data.ix[startZip:endZip].index.values\n",
    "barWidth = .4\n",
    "powerAvg = power_data.ix[startZip:endZip,'Average'].values\n",
    "powerYear = power_data.ix[startZip:endZip,dataYear].values\n",
    "\n",
    "power_chart = plt.figure(figsize=(16,8))\n",
    "power1 = plt.bar(index, powerAvg, barWidth, color='#f1c40f', label='Average')\n",
    "power2 = plt.bar(index + barWidth, powerYear, barWidth, color='#dc7633', label=dataYear)\n",
    "plt.xticks(index + barWidth, powerZip)\n",
    "plt.title('Power Consumption by Zip Code in Los Angeles')\n",
    "\n",
    "# don't forget to switch these, now that the bars are vertical:\n",
    "plt.ylabel('Usage in kWh')\n",
    "plt.xlabel('Zip Code')\n",
    "plt.legend(loc=0);"
   ]
  }
 ],
 "metadata": {
  "anaconda-cloud": {},
  "kernelspec": {
   "display_name": "Python [Root]",
   "language": "python",
   "name": "Python [Root]"
  },
  "language_info": {
   "codemirror_mode": {
    "name": "ipython",
    "version": 2
   },
   "file_extension": ".py",
   "mimetype": "text/x-python",
   "name": "python",
   "nbconvert_exporter": "python",
   "pygments_lexer": "ipython2",
   "version": "2.7.12"
  }
 },
 "nbformat": 4,
 "nbformat_minor": 0
}
